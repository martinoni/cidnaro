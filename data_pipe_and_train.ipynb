{
 "cells": [
  {
   "cell_type": "code",
   "execution_count": 23,
   "metadata": {},
   "outputs": [],
   "source": [
    "import pandas as pd\n",
    "import os\n",
    "import gpt_2_simple as gpt2\n",
    "import numpy as np"
   ]
  },
  {
   "cell_type": "code",
   "execution_count": 24,
   "metadata": {},
   "outputs": [],
   "source": [
    "files = os.listdir('./data/')"
   ]
  },
  {
   "cell_type": "code",
   "execution_count": 25,
   "metadata": {},
   "outputs": [],
   "source": [
    "li = []\n",
    "\n",
    "for filename in files:\n",
    "    filename = './data/%s' % (filename)\n",
    "    df = pd.read_csv(filename, index_col=None, header=0)\n",
    "    li.append(df)\n",
    "\n",
    "data = pd.concat(li, axis=0, ignore_index=True)"
   ]
  },
  {
   "cell_type": "code",
   "execution_count": 26,
   "metadata": {},
   "outputs": [],
   "source": [
    "data = data.drop_duplicates()"
   ]
  },
  {
   "cell_type": "code",
   "execution_count": 27,
   "metadata": {},
   "outputs": [
    {
     "data": {
      "text/html": [
       "<div>\n",
       "<style scoped>\n",
       "    .dataframe tbody tr th:only-of-type {\n",
       "        vertical-align: middle;\n",
       "    }\n",
       "\n",
       "    .dataframe tbody tr th {\n",
       "        vertical-align: top;\n",
       "    }\n",
       "\n",
       "    .dataframe thead th {\n",
       "        text-align: right;\n",
       "    }\n",
       "</style>\n",
       "<table border=\"1\" class=\"dataframe\">\n",
       "  <thead>\n",
       "    <tr style=\"text-align: right;\">\n",
       "      <th></th>\n",
       "      <th>User</th>\n",
       "      <th>Text</th>\n",
       "      <th>Date</th>\n",
       "      <th>Favorites</th>\n",
       "      <th>Retweets</th>\n",
       "      <th>Mentions</th>\n",
       "      <th>HashTags</th>\n",
       "    </tr>\n",
       "  </thead>\n",
       "  <tbody>\n",
       "    <tr>\n",
       "      <th>0</th>\n",
       "      <td>naosalvo</td>\n",
       "      <td>@_marcelocrvg grava hj mas não falaram ainda q...</td>\n",
       "      <td>2015-04-30 21:26:52+00:00</td>\n",
       "      <td>0</td>\n",
       "      <td>2</td>\n",
       "      <td>NaN</td>\n",
       "      <td>NaN</td>\n",
       "    </tr>\n",
       "    <tr>\n",
       "      <th>1</th>\n",
       "      <td>naosalvo</td>\n",
       "      <td>Revelações dos bastidores do SBT, a vaga do @R...</td>\n",
       "      <td>2015-04-30 21:24:49+00:00</td>\n",
       "      <td>21</td>\n",
       "      <td>68</td>\n",
       "      <td>@roxmo</td>\n",
       "      <td>NaN</td>\n",
       "    </tr>\n",
       "    <tr>\n",
       "      <th>2</th>\n",
       "      <td>naosalvo</td>\n",
       "      <td>Posso tentar, acho justo</td>\n",
       "      <td>2015-04-30 21:08:30+00:00</td>\n",
       "      <td>11</td>\n",
       "      <td>62</td>\n",
       "      <td>NaN</td>\n",
       "      <td>NaN</td>\n",
       "    </tr>\n",
       "    <tr>\n",
       "      <th>3</th>\n",
       "      <td>naosalvo</td>\n",
       "      <td>Ouuuu fui chamado pro teste de DNA no Ratinho ...</td>\n",
       "      <td>2015-04-30 21:04:26+00:00</td>\n",
       "      <td>4</td>\n",
       "      <td>70</td>\n",
       "      <td>NaN</td>\n",
       "      <td>NaN</td>\n",
       "    </tr>\n",
       "    <tr>\n",
       "      <th>4</th>\n",
       "      <td>naosalvo</td>\n",
       "      <td>Vou gravar o The Noite (não sei que dia vai pr...</td>\n",
       "      <td>2015-04-30 21:03:35+00:00</td>\n",
       "      <td>10</td>\n",
       "      <td>81</td>\n",
       "      <td>NaN</td>\n",
       "      <td>NaN</td>\n",
       "    </tr>\n",
       "    <tr>\n",
       "      <th>...</th>\n",
       "      <td>...</td>\n",
       "      <td>...</td>\n",
       "      <td>...</td>\n",
       "      <td>...</td>\n",
       "      <td>...</td>\n",
       "      <td>...</td>\n",
       "      <td>...</td>\n",
       "    </tr>\n",
       "    <tr>\n",
       "      <th>62967</th>\n",
       "      <td>jairbolsonaro</td>\n",
       "      <td>Indico ao eleitores de SP p/ que votem para de...</td>\n",
       "      <td>2014-10-04 10:38:11+00:00</td>\n",
       "      <td>13</td>\n",
       "      <td>28</td>\n",
       "      <td>NaN</td>\n",
       "      <td>NaN</td>\n",
       "    </tr>\n",
       "    <tr>\n",
       "      <th>62968</th>\n",
       "      <td>jairbolsonaro</td>\n",
       "      <td>Meu voto para deputado federal no RJ:</td>\n",
       "      <td>2014-10-04 10:28:01+00:00</td>\n",
       "      <td>27</td>\n",
       "      <td>43</td>\n",
       "      <td>NaN</td>\n",
       "      <td>NaN</td>\n",
       "    </tr>\n",
       "    <tr>\n",
       "      <th>62969</th>\n",
       "      <td>jairbolsonaro</td>\n",
       "      <td>Meus votos para deputado estadual e federal no...</td>\n",
       "      <td>2014-10-04 10:27:23+00:00</td>\n",
       "      <td>24</td>\n",
       "      <td>31</td>\n",
       "      <td>NaN</td>\n",
       "      <td>NaN</td>\n",
       "    </tr>\n",
       "    <tr>\n",
       "      <th>62970</th>\n",
       "      <td>jairbolsonaro</td>\n",
       "      <td>DEBATE MEDÍOCRE ATÉ PARA UMA DISPUTA DE PREFEI...</td>\n",
       "      <td>2014-10-03 20:23:10+00:00</td>\n",
       "      <td>51</td>\n",
       "      <td>66</td>\n",
       "      <td>NaN</td>\n",
       "      <td>NaN</td>\n",
       "    </tr>\n",
       "    <tr>\n",
       "      <th>62971</th>\n",
       "      <td>jairbolsonaro</td>\n",
       "      <td>Sempre muito bacana as caminhadas pelo Méier e...</td>\n",
       "      <td>2014-10-01 21:26:25+00:00</td>\n",
       "      <td>16</td>\n",
       "      <td>31</td>\n",
       "      <td>NaN</td>\n",
       "      <td>NaN</td>\n",
       "    </tr>\n",
       "  </tbody>\n",
       "</table>\n",
       "<p>62972 rows × 7 columns</p>\n",
       "</div>"
      ],
      "text/plain": [
       "                User                                               Text  \\\n",
       "0           naosalvo  @_marcelocrvg grava hj mas não falaram ainda q...   \n",
       "1           naosalvo  Revelações dos bastidores do SBT, a vaga do @R...   \n",
       "2           naosalvo                           Posso tentar, acho justo   \n",
       "3           naosalvo  Ouuuu fui chamado pro teste de DNA no Ratinho ...   \n",
       "4           naosalvo  Vou gravar o The Noite (não sei que dia vai pr...   \n",
       "...              ...                                                ...   \n",
       "62967  jairbolsonaro  Indico ao eleitores de SP p/ que votem para de...   \n",
       "62968  jairbolsonaro              Meu voto para deputado federal no RJ:   \n",
       "62969  jairbolsonaro  Meus votos para deputado estadual e federal no...   \n",
       "62970  jairbolsonaro  DEBATE MEDÍOCRE ATÉ PARA UMA DISPUTA DE PREFEI...   \n",
       "62971  jairbolsonaro  Sempre muito bacana as caminhadas pelo Méier e...   \n",
       "\n",
       "                            Date Favorites Retweets Mentions HashTags  \n",
       "0      2015-04-30 21:26:52+00:00         0        2      NaN      NaN  \n",
       "1      2015-04-30 21:24:49+00:00        21       68   @roxmo      NaN  \n",
       "2      2015-04-30 21:08:30+00:00        11       62      NaN      NaN  \n",
       "3      2015-04-30 21:04:26+00:00         4       70      NaN      NaN  \n",
       "4      2015-04-30 21:03:35+00:00        10       81      NaN      NaN  \n",
       "...                          ...       ...      ...      ...      ...  \n",
       "62967  2014-10-04 10:38:11+00:00        13       28      NaN      NaN  \n",
       "62968  2014-10-04 10:28:01+00:00        27       43      NaN      NaN  \n",
       "62969  2014-10-04 10:27:23+00:00        24       31      NaN      NaN  \n",
       "62970  2014-10-03 20:23:10+00:00        51       66      NaN      NaN  \n",
       "62971  2014-10-01 21:26:25+00:00        16       31      NaN      NaN  \n",
       "\n",
       "[62972 rows x 7 columns]"
      ]
     },
     "execution_count": 27,
     "metadata": {},
     "output_type": "execute_result"
    }
   ],
   "source": [
    "data"
   ]
  },
  {
   "cell_type": "code",
   "execution_count": 28,
   "metadata": {},
   "outputs": [
    {
     "name": "stdout",
     "output_type": "stream",
     "text": [
      "#Tweets de cidcidoso: 57839\n",
      "#Tweets de bozo: 5133\n"
     ]
    }
   ],
   "source": [
    "print('#Tweets de cidcidoso: %d' % sum(data['User'] == 'naosalvo'))\n",
    "print('#Tweets de bozo: %d' % sum(data['User'] != 'naosalvo'))\n",
    "\n",
    "n_sample = min(sum(data['User'] == 'naosalvo'), sum(data['User'] != 'naosalvo'))"
   ]
  },
  {
   "cell_type": "code",
   "execution_count": 29,
   "metadata": {},
   "outputs": [],
   "source": [
    "cid = data[data['User'] == 'naosalvo'].sample(n_sample)\n",
    "bozo = data[data['User'] != 'naosalvo'].sample(n_sample)\n",
    "\n",
    "data_balanced = pd.concat([cid, bozo]).sample(frac=1)"
   ]
  },
  {
   "cell_type": "code",
   "execution_count": 30,
   "metadata": {},
   "outputs": [],
   "source": [
    "data_balanced = pd.DataFrame(data_balanced['Text'])"
   ]
  },
  {
   "cell_type": "code",
   "execution_count": 31,
   "metadata": {},
   "outputs": [],
   "source": [
    "data_balanced_modified = data_balanced"
   ]
  },
  {
   "cell_type": "code",
   "execution_count": 32,
   "metadata": {},
   "outputs": [],
   "source": [
    "for i in range(data_balanced_modified.shape[0]):\n",
    "    element = '%s%s%s' % ('<|startoftext|>', data_balanced_modified.iloc[i][0], '<|endoftext|>')\n",
    "    data_balanced_modified.iloc[i][0] = element"
   ]
  },
  {
   "cell_type": "code",
   "execution_count": 33,
   "metadata": {},
   "outputs": [],
   "source": [
    "data_balanced_modified.to_csv('model_data.csv', index=False)"
   ]
  },
  {
   "cell_type": "code",
   "execution_count": 34,
   "metadata": {},
   "outputs": [],
   "source": [
    "txt_list = []"
   ]
  },
  {
   "cell_type": "code",
   "execution_count": 35,
   "metadata": {},
   "outputs": [],
   "source": [
    "for index, row in data_balanced.iterrows():\n",
    "    element = '%s%s%s' % ('<|startoftext|>', row[0], '<|endoftext|>')\n",
    "    txt_list.append(element)"
   ]
  },
  {
   "cell_type": "code",
   "execution_count": 36,
   "metadata": {},
   "outputs": [],
   "source": [
    "with open('data_model.txt', 'w') as file:\n",
    "    for element in txt_list:\n",
    "        file.write(element)\n",
    "    file.close()"
   ]
  },
  {
   "cell_type": "markdown",
   "metadata": {},
   "source": [
    "# Model"
   ]
  },
  {
   "cell_type": "code",
   "execution_count": 20,
   "metadata": {},
   "outputs": [],
   "source": [
    "file_name = 'model_data.csv'"
   ]
  },
  {
   "cell_type": "code",
   "execution_count": 21,
   "metadata": {},
   "outputs": [],
   "source": [
    "sess = gpt2.start_tf_sess()"
   ]
  },
  {
   "cell_type": "code",
   "execution_count": 22,
   "metadata": {},
   "outputs": [
    {
     "name": "stdout",
     "output_type": "stream",
     "text": [
      "WARNING:tensorflow:From /home/martinoni/anaconda3/lib/python3.7/site-packages/gpt_2_simple/src/sample.py:17: where (from tensorflow.python.ops.array_ops) is deprecated and will be removed in a future version.\n",
      "Instructions for updating:\n",
      "Use tf.where in 2.0, which has the same broadcast rule as np.where\n",
      "WARNING:tensorflow:From /home/martinoni/anaconda3/lib/python3.7/site-packages/gpt_2_simple/src/memory_saving_gradients.py:62: get_backward_walk_ops (from tensorflow.contrib.graph_editor.select) is deprecated and will be removed after 2019-06-06.\n",
      "Instructions for updating:\n",
      "Please use tensorflow.python.ops.op_selector.get_backward_walk_ops.\n",
      "Loading checkpoint models/355M/model.ckpt\n",
      "INFO:tensorflow:Restoring parameters from models/355M/model.ckpt\n"
     ]
    },
    {
     "name": "stderr",
     "output_type": "stream",
     "text": [
      "100%|██████████| 1/1 [00:00<00:00, 41.34it/s]"
     ]
    },
    {
     "name": "stdout",
     "output_type": "stream",
     "text": [
      "Loading dataset...\n"
     ]
    },
    {
     "name": "stderr",
     "output_type": "stream",
     "text": [
      "\n"
     ]
    },
    {
     "name": "stdout",
     "output_type": "stream",
     "text": [
      "dataset has 666437 tokens\n",
      "Training...\n",
      "[10 | 228.65] loss=2.76 avg=2.76\n",
      "interrupted\n",
      "Saving checkpoint/run1/model-14\n"
     ]
    }
   ],
   "source": [
    "gpt2.finetune(sess,\n",
    "              dataset=file_name,\n",
    "              model_name='355M',\n",
    "              steps=100,\n",
    "              restore_from='fresh',\n",
    "              run_name='run1',\n",
    "              print_every=10,\n",
    "              sample_every=100,\n",
    "              save_every=100\n",
    "              )"
   ]
  },
  {
   "cell_type": "code",
   "execution_count": null,
   "metadata": {},
   "outputs": [],
   "source": [
    "gpt2.generate(sess,\n",
    "              length=200,\n",
    "              temperature=0.7,\n",
    "              prefix='<|startoftext|>',\n",
    "              truncate='<|endoftext|>',\n",
    "              include_prefix=False\n",
    "              )"
   ]
  },
  {
   "cell_type": "code",
   "execution_count": 5,
   "metadata": {},
   "outputs": [
    {
     "ename": "IndexError",
     "evalue": "list index out of range",
     "output_type": "error",
     "traceback": [
      "\u001b[0;31m---------------------------------------------------------------------------\u001b[0m",
      "\u001b[0;31mIndexError\u001b[0m                                Traceback (most recent call last)",
      "\u001b[0;32m<ipython-input-5-6dcb02095016>\u001b[0m in \u001b[0;36m<module>\u001b[0;34m\u001b[0m\n\u001b[1;32m      1\u001b[0m \u001b[0;32mfrom\u001b[0m \u001b[0mtensorflow\u001b[0m\u001b[0;34m.\u001b[0m\u001b[0mpython\u001b[0m\u001b[0;34m.\u001b[0m\u001b[0mclient\u001b[0m \u001b[0;32mimport\u001b[0m \u001b[0mdevice_lib\u001b[0m\u001b[0;34m\u001b[0m\u001b[0;34m\u001b[0m\u001b[0m\n\u001b[1;32m      2\u001b[0m \u001b[0;34m\u001b[0m\u001b[0m\n\u001b[0;32m----> 3\u001b[0;31m \u001b[0mprint\u001b[0m\u001b[0;34m(\u001b[0m\u001b[0mdevice_lib\u001b[0m\u001b[0;34m.\u001b[0m\u001b[0mlist_local_devices\u001b[0m\u001b[0;34m(\u001b[0m\u001b[0;34m)\u001b[0m\u001b[0;34m[\u001b[0m\u001b[0;36m3\u001b[0m\u001b[0;34m]\u001b[0m\u001b[0;34m)\u001b[0m\u001b[0;34m\u001b[0m\u001b[0;34m\u001b[0m\u001b[0m\n\u001b[0m",
      "\u001b[0;31mIndexError\u001b[0m: list index out of range"
     ]
    }
   ],
   "source": [
    "from tensorflow.python.client import device_lib\n",
    "\n",
    "print(device_lib.list_local_devices()[3])"
   ]
  }
 ],
 "metadata": {
  "kernelspec": {
   "display_name": "Python 3",
   "language": "python",
   "name": "python3"
  },
  "language_info": {
   "codemirror_mode": {
    "name": "ipython",
    "version": 3
   },
   "file_extension": ".py",
   "mimetype": "text/x-python",
   "name": "python",
   "nbconvert_exporter": "python",
   "pygments_lexer": "ipython3",
   "version": "3.7.6"
  }
 },
 "nbformat": 4,
 "nbformat_minor": 4
}
