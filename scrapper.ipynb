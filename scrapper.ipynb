{
 "cells": [
  {
   "cell_type": "code",
   "execution_count": 42,
   "metadata": {},
   "outputs": [],
   "source": [
    "import pandas as pd\n",
    "from multiprocessing import Pool\n",
    "import GetOldTweets3 as got\n",
    "import time\n"
   ]
  },
  {
   "cell_type": "code",
   "execution_count": 2,
   "metadata": {},
   "outputs": [],
   "source": [
    "def get_tweets(username, top_only, start_date, end_date, max_tweets):\n",
    "   \n",
    "    # specifying tweet search criteria \n",
    "    tweetCriteria = got.manager.TweetCriteria().setUsername(username)\\\n",
    "                          .setTopTweets(top_only)\\\n",
    "                          .setSince(start_date)\\\n",
    "                          .setUntil(end_date)\\\n",
    "                          .setMaxTweets(max_tweets)\n",
    "    \n",
    "    # scraping tweets based on criteria\n",
    "    tweet = got.manager.TweetManager.getTweets(tweetCriteria)\n",
    "    \n",
    "    # creating list of tweets with the tweet attributes \n",
    "    # specified in the list comprehension\n",
    "    text_tweets = [[tw.username,\n",
    "                tw.text,\n",
    "                tw.date,\n",
    "                tw.retweets,\n",
    "                tw.favorites,\n",
    "                tw.mentions,\n",
    "                tw.hashtags] for tw in tweet]\n",
    "    \n",
    "    # creating dataframe, assigning column names to list of\n",
    "    # tweets corresponding to tweet attributes\n",
    "    news_df = pd.DataFrame(text_tweets, \n",
    "                            columns = ['User', 'Text','Date',      'Favorites', 'Retweets', 'Mentions', 'HashTags'])\n",
    "    \n",
    "    return news_df"
   ]
  },
  {
   "cell_type": "code",
   "execution_count": 19,
   "metadata": {},
   "outputs": [],
   "source": [
    "def baixar(args):\n",
    "    user, begin_date, end_date = args.split('+')\n",
    "    nome = '%s_%s---%s.csv' % (user, begin_date, end_date)\n",
    "    print('baixando %s' % (nome))\n",
    "    time.sleep(int(begin_date[5] + begin_date[6] ))\n",
    "    news_df =  get_tweets(user, True, begin_date, end_date, max_tweets=limit)\n",
    "    news_df.to_csv('./data/%s' % nome, index=False)\n",
    "    print('%s pronto!!!' % nome)"
   ]
  },
  {
   "cell_type": "code",
   "execution_count": 47,
   "metadata": {},
   "outputs": [],
   "source": [
    "limit = 200000\n",
    "\n",
    "args = []\n",
    "# FALTA 2012 pra baixo\n",
    "anos = [2012]\n",
    "for ano in anos:\n",
    "    for mes in range(1, 13):\n",
    "        for user in ['naosalvo', 'jairbolsonaro']:\n",
    "            if mes != 12:\n",
    "                arg = '%s+%d-%02d-01+%d-%02d-01' % (user, ano, mes, ano, mes+1)\n",
    "                args.append(arg)\n",
    "            else:\n",
    "                arg = '%s+%d-%02d-01+%d-%02d-01' % (user, ano, mes, ano+1, 1)\n",
    "                args.append(arg)"
   ]
  },
  {
   "cell_type": "code",
   "execution_count": 48,
   "metadata": {
    "scrolled": true
   },
   "outputs": [
    {
     "name": "stdout",
     "output_type": "stream",
     "text": [
      "baixando jairbolsonaro_2013-01-01---2013-02-01.csv\n",
      "baixando naosalvo_2013-02-01---2013-03-01.csv\n",
      "baixando naosalvo_2013-03-01---2013-04-01.csv\n",
      "baixando jairbolsonaro_2013-03-01---2013-04-01.csv\n",
      "baixando jairbolsonaro_2013-02-01---2013-03-01.csv\n",
      "baixando naosalvo_2013-01-01---2013-02-01.csv\n",
      "jairbolsonaro_2013-01-01---2013-02-01.csv pronto!!!\n",
      "baixando naosalvo_2013-04-01---2013-05-01.csv\n",
      "jairbolsonaro_2013-02-01---2013-03-01.csv pronto!!!\n",
      "baixando jairbolsonaro_2013-04-01---2013-05-01.csv\n",
      "jairbolsonaro_2013-03-01---2013-04-01.csv pronto!!!\n",
      "baixando naosalvo_2013-05-01---2013-06-01.csv\n",
      "jairbolsonaro_2013-04-01---2013-05-01.csv pronto!!!\n",
      "baixando jairbolsonaro_2013-05-01---2013-06-01.csv\n",
      "jairbolsonaro_2013-05-01---2013-06-01.csv pronto!!!\n",
      "baixando naosalvo_2013-06-01---2013-07-01.csv\n",
      "naosalvo_2013-04-01---2013-05-01.csv pronto!!!\n",
      "baixando jairbolsonaro_2013-06-01---2013-07-01.csv\n",
      "naosalvo_2013-02-01---2013-03-01.csv pronto!!!\n",
      "baixando naosalvo_2013-07-01---2013-08-01.csv\n",
      "naosalvo_2013-01-01---2013-02-01.csv pronto!!!\n",
      "baixando jairbolsonaro_2013-07-01---2013-08-01.csv\n",
      "jairbolsonaro_2013-06-01---2013-07-01.csv pronto!!!\n",
      "baixando naosalvo_2013-08-01---2013-09-01.csv\n",
      "naosalvo_2013-05-01---2013-06-01.csv pronto!!!\n",
      "baixando jairbolsonaro_2013-08-01---2013-09-01.csv\n",
      "naosalvo_2013-03-01---2013-04-01.csv pronto!!!\n",
      "baixando naosalvo_2013-09-01---2013-10-01.csv\n",
      "jairbolsonaro_2013-07-01---2013-08-01.csv pronto!!!\n",
      "baixando jairbolsonaro_2013-09-01---2013-10-01.csv\n",
      "jairbolsonaro_2013-08-01---2013-09-01.csv pronto!!!\n",
      "baixando naosalvo_2013-10-01---2013-11-01.csv\n",
      "jairbolsonaro_2013-09-01---2013-10-01.csv pronto!!!\n",
      "baixando jairbolsonaro_2013-10-01---2013-11-01.csv\n",
      "naosalvo_2013-06-01---2013-07-01.csv pronto!!!\n",
      "baixando naosalvo_2013-11-01---2013-12-01.csv\n",
      "jairbolsonaro_2013-10-01---2013-11-01.csv pronto!!!\n",
      "baixando jairbolsonaro_2013-11-01---2013-12-01.csv\n",
      "naosalvo_2013-07-01---2013-08-01.csv pronto!!!\n",
      "baixando naosalvo_2013-12-01---2014-01-01.csv\n",
      "naosalvo_2013-09-01---2013-10-01.csv pronto!!!\n",
      "baixando jairbolsonaro_2013-12-01---2014-01-01.csv\n",
      "jairbolsonaro_2013-11-01---2013-12-01.csv pronto!!!\n",
      "naosalvo_2013-08-01---2013-09-01.csv pronto!!!\n",
      "jairbolsonaro_2013-12-01---2014-01-01.csv pronto!!!\n",
      "naosalvo_2013-10-01---2013-11-01.csv pronto!!!\n",
      "naosalvo_2013-11-01---2013-12-01.csv pronto!!!\n",
      "naosalvo_2013-12-01---2014-01-01.csv pronto!!!\n"
     ]
    }
   ],
   "source": [
    "with Pool(6) as p:\n",
    "    p.map(baixar, args)"
   ]
  },
  {
   "cell_type": "code",
   "execution_count": null,
   "metadata": {},
   "outputs": [],
   "source": []
  }
 ],
 "metadata": {
  "kernelspec": {
   "display_name": "Python 3",
   "language": "python",
   "name": "python3"
  },
  "language_info": {
   "codemirror_mode": {
    "name": "ipython",
    "version": 3
   },
   "file_extension": ".py",
   "mimetype": "text/x-python",
   "name": "python",
   "nbconvert_exporter": "python",
   "pygments_lexer": "ipython3",
   "version": "3.7.6"
  }
 },
 "nbformat": 4,
 "nbformat_minor": 4
}
